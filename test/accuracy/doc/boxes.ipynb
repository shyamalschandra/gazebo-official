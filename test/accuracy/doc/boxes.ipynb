{
 "metadata": {
  "name": "",
  "signature": "sha256:bfbe983ffcf4e0fe0d2fe95df458c54df496a1de114bd42d401ad028d4e501c9"
 },
 "nbformat": 3,
 "nbformat_minor": 0,
 "worksheets": [
  {
   "cells": [
    {
     "cell_type": "code",
     "collapsed": false,
     "input": [
      "import csv\n",
      "import numpy as np\n",
      "import matplotlib as mpl\n",
      "import matplotlib.pyplot as plt\n",
      "%matplotlib inline"
     ],
     "language": "python",
     "metadata": {},
     "outputs": []
    },
    {
     "cell_type": "code",
     "collapsed": false,
     "input": [
      "def match(a,b):\n",
      "    if a == b:\n",
      "        return True\n",
      "    else:\n",
      "        try:\n",
      "            if a in b:\n",
      "                return True\n",
      "        except:\n",
      "            return False\n",
      "    return False\n",
      "\n",
      "def query(d, params):\n",
      "    result = []\n",
      "    for k in params:\n",
      "        result.append(set([i for i,x in enumerate(d[k]) if match(params[k], x)]))\n",
      "    return sorted(set.intersection(*result))"
     ],
     "language": "python",
     "metadata": {},
     "outputs": []
    },
    {
     "cell_type": "code",
     "collapsed": false,
     "input": [
      "with open('boxes.csv', 'rb') as csvfile:\n",
      "    spamreader = csv.DictReader(csvfile)\n",
      "    csvArray = []\n",
      "    csvDict = {}\n",
      "    for field in spamreader.fieldnames:\n",
      "        csvDict[field] = []\n",
      "    csvDict[None] = []\n",
      "    for row in spamreader:\n",
      "        csvArray.append(row)\n",
      "        for k in row.keys():\n",
      "            try:\n",
      "                csvDict[k] = np.append(csvDict[k], float(row[k]))\n",
      "            except:\n",
      "                csvDict[k].append(row[k])\n",
      "print sorted(csvDict.keys())"
     ],
     "language": "python",
     "metadata": {},
     "outputs": []
    },
    {
     "cell_type": "code",
     "collapsed": false,
     "input": [
      "mpl.rcParams.update({'font.size': 16})\n",
      "def plotEngines(params, yname, xname='timeRatio'\n",
      "                             , xlabel='Time'\n",
      "                             , ylabel='Error'\n",
      "                             , title='title'\n",
      "                             ):\n",
      "    engines = {}\n",
      "    engines['ode'] = 'bo-'\n",
      "    engines['bullet'] = 'rx--'\n",
      "    engines['simbody'] = 'gv-'\n",
      "    engines['dart'] = 'k^--'\n",
      "    fig = plt.figure()\n",
      "    for e in sorted(engines.keys()):\n",
      "        params['engine'] = e\n",
      "        ii = np.array(list(query(csvDict, params)))\n",
      "        plt.plot(csvDict[xname][ii]\n",
      "               , csvDict[yname][ii]\n",
      "               , engines[e], mfc=\"None\"\n",
      "               , markersize=10.0\n",
      "               , markeredgewidth=2.0\n",
      "               , markeredgecolor=engines[e][0]\n",
      "               )\n",
      "    plt.grid()\n",
      "    plt.xlabel(xlabel, fontsize=18)\n",
      "    plt.ylabel(ylabel, fontsize=18)\n",
      "    plt.title(title)\n",
      "    plt.gcf().set_size_inches(8, 6)\n",
      "    plt.legend(sorted(engines.keys()), loc='best')"
     ],
     "language": "python",
     "metadata": {},
     "outputs": []
    },
    {
     "cell_type": "code",
     "collapsed": false,
     "input": [
      "def plotGravity(gravity, yname, title\n",
      "              , xname='timeRatio'\n",
      "              , xlabel='Time (% real time)'\n",
      "              , ylabel='Error'\n",
      "               ):\n",
      "    p = {}\n",
      "    p['classname'] = 'EnginesDtGravity'\n",
      "    p['gravity'] = float(gravity)\n",
      "    title_suffix = ': with'\n",
      "    if p['gravity'] == 0.0:\n",
      "        title_suffix +='out'\n",
      "    title_suffix += ' gravity'\n",
      "    plotEngines(params=p\n",
      "              , yname=yname\n",
      "              , title=title+title_suffix\n",
      "              , xname=xname\n",
      "              , xlabel=xlabel\n",
      "              , ylabel=ylabel\n",
      "               )\n",
      "    file_prefix = 'grav' + str(int(p['gravity']))\n",
      "    return file_prefix\n"
     ],
     "language": "python",
     "metadata": {},
     "outputs": []
    },
    {
     "cell_type": "code",
     "collapsed": false,
     "input": [
      "# Plot position error varying gravity and dt\n",
      "for gravity in [0, 1]:\n",
      "    file_mid = '_pos'\n",
      "    file_prefix = plotGravity(gravity\n",
      "                            , yname='linPositionErrMaxAbs'\n",
      "                            , title='Position error (m)'\n",
      "                             )\n",
      "    if gravity == 0:\n",
      "        plt.ylim(-1e-5, 1e-4)\n",
      "    plt.savefig(file_prefix + file_mid + '.png')"
     ],
     "language": "python",
     "metadata": {},
     "outputs": []
    },
    {
     "cell_type": "code",
     "collapsed": false,
     "input": [
      "# Plot velocity error varying gravity and dt\n",
      "for gravity in [0, 1]:\n",
      "    file_mid = '_vel'\n",
      "    file_prefix = plotGravity(gravity\n",
      "                            , yname='linVelocityErrMaxAbs'\n",
      "                            , title='Velocity error (m/s)'\n",
      "                             )\n",
      "    if gravity == 0:\n",
      "        plt.ylim(-1e-6, 1e-5)\n",
      "    plt.savefig(file_prefix + file_mid + '.png')\n"
     ],
     "language": "python",
     "metadata": {},
     "outputs": []
    },
    {
     "cell_type": "code",
     "collapsed": false,
     "input": [
      "# Plot angular momentum error varying gravity and dt\n",
      "for gravity in [0, 1]:\n",
      "    file_mid = '_ang'\n",
      "    file_prefix = plotGravity(gravity\n",
      "                            , yname='angMomentumErrMaxAbs'\n",
      "                            , title='Angular momentum error (%)'\n",
      "                             )\n",
      "    plt.ylim(-1e-6, 1e-4)\n",
      "    plt.savefig(file_prefix + file_mid + '.png')\n"
     ],
     "language": "python",
     "metadata": {},
     "outputs": []
    },
    {
     "cell_type": "code",
     "collapsed": false,
     "input": [
      "# Plot angular momentum error varying gravity and dt\n",
      "for gravity in [0, 1]:\n",
      "    file_mid = '_energy'\n",
      "    file_prefix = plotGravity(gravity\n",
      "                            , yname='energyErrorMaxAbs'\n",
      "                            , title='Energy error (%)'\n",
      "                             )\n",
      "    if gravity == 0:\n",
      "        plt.ylim(-1e-6, 1e-5)\n",
      "    plt.savefig(file_prefix + file_mid + '.png')\n"
     ],
     "language": "python",
     "metadata": {},
     "outputs": []
    },
    {
     "cell_type": "code",
     "collapsed": false,
     "input": [
      "def printEnergyDt(engine):\n",
      "    p2 = p\n",
      "    p2['engine'] = engine\n",
      "    ii = query(csvDict, p2)\n",
      "    print [np.mean(csvDict['energyErrorMaxAbs'][ii]*csvDict['timeRatio'][ii])\n",
      "         , np.mean(csvDict['energyErrorMaxAbs'][ii]/csvDict['dt'][ii])\n",
      "         , 2.5/np.mean(csvDict['energyErrorMaxAbs'][ii]/csvDict['dt'][ii])]\n",
      "printEnergyDt('ode')\n",
      "printEnergyDt('bullet')\n",
      "printEnergyDt('simbody')\n",
      "printEnergyDt('dart')"
     ],
     "language": "python",
     "metadata": {},
     "outputs": []
    },
    {
     "cell_type": "code",
     "collapsed": false,
     "input": [
      "# Plot angular momentum error varying gravity and dt\n",
      "for gravity in [0, 1]:\n",
      "    file_mid = '_energy_dt'\n",
      "    file_prefix = plotGravity(gravity\n",
      "                            , xname='dt'\n",
      "                            , yname='energyErrorMaxAbs'\n",
      "                            , title='Energy error (%)'\n",
      "                            , xlabel='Time step (s)'\n",
      "                             )\n",
      "    if gravity == 0:\n",
      "        plt.ylim(-1e-6, 1e-5)\n",
      "    plt.savefig(file_prefix + file_mid + '.png')\n"
     ],
     "language": "python",
     "metadata": {},
     "outputs": []
    },
    {
     "cell_type": "code",
     "collapsed": false,
     "input": [
      "# Make some plots based on different numbers of spawned boxes\n",
      "p = {}\n",
      "p['classname'] = 'Boxes'\n",
      "print csvDict['dt'][query(csvDict, p)]\n",
      "title_suffix = ': multiple boxes'\n",
      "file_prefix = 'boxes'\n",
      "file_suffix = '.png'\n",
      "xname='timeRatio'\n",
      "xlabel='Time (% real time)'\n",
      "ylabel='Boxes'"
     ],
     "language": "python",
     "metadata": {},
     "outputs": []
    },
    {
     "cell_type": "code",
     "collapsed": false,
     "input": [
      "plotEngines(p, 'boxCount'\n",
      "          , title='Performance with multiple boxes'\n",
      "          , xname=xname\n",
      "          , xlabel=xlabel\n",
      "          , ylabel=ylabel\n",
      "          )\n",
      "plt.savefig(file_prefix + '_performance' + file_suffix)"
     ],
     "language": "python",
     "metadata": {},
     "outputs": []
    },
    {
     "cell_type": "code",
     "collapsed": false,
     "input": [
      "plotEngines(p, 'energyErrorMaxAbs'\n",
      "          , title='Accuracy with multiple boxes'\n",
      "          )\n",
      "plt.savefig(file_prefix + '_accuracy' + file_suffix)"
     ],
     "language": "python",
     "metadata": {},
     "outputs": []
    },
    {
     "cell_type": "code",
     "collapsed": false,
     "input": [
      "[i for i,row in enumerate(csvArray) if \n",
      "    print i if 'EnginesDtGravity' in row['classname']"
     ],
     "language": "python",
     "metadata": {},
     "outputs": []
    },
    {
     "cell_type": "code",
     "collapsed": false,
     "input": [
      "print sorted(csvDict.keys())\n",
      "print csvDict['classname']"
     ],
     "language": "python",
     "metadata": {},
     "outputs": []
    },
    {
     "cell_type": "code",
     "collapsed": false,
     "input": [
      "0.0 in 1.0"
     ],
     "language": "python",
     "metadata": {},
     "outputs": []
    },
    {
     "cell_type": "code",
     "collapsed": false,
     "input": [
      "'ode' == 'ode'"
     ],
     "language": "python",
     "metadata": {},
     "outputs": []
    },
    {
     "cell_type": "code",
     "collapsed": false,
     "input": [
      "'ode' == 'sode'"
     ],
     "language": "python",
     "metadata": {},
     "outputs": []
    },
    {
     "cell_type": "code",
     "collapsed": false,
     "input": [
      "x = np.append([0], [1, 2, 3])\n",
      "print x\n",
      "print type(x)"
     ],
     "language": "python",
     "metadata": {},
     "outputs": []
    },
    {
     "cell_type": "code",
     "collapsed": false,
     "input": [
      "np.array([0, 1, 2, 3, 4])"
     ],
     "language": "python",
     "metadata": {},
     "outputs": []
    },
    {
     "cell_type": "code",
     "collapsed": false,
     "input": [
      "str(int(0.0))"
     ],
     "language": "python",
     "metadata": {},
     "outputs": []
    },
    {
     "cell_type": "code",
     "collapsed": false,
     "input": [
      "np.arange(5) / np.arange(5)"
     ],
     "language": "python",
     "metadata": {},
     "outputs": []
    },
    {
     "cell_type": "code",
     "collapsed": false,
     "input": [
      "'grav0'[-1]"
     ],
     "language": "python",
     "metadata": {},
     "outputs": []
    },
    {
     "cell_type": "code",
     "collapsed": false,
     "input": [],
     "language": "python",
     "metadata": {},
     "outputs": []
    }
   ],
   "metadata": {}
  }
 ]
}