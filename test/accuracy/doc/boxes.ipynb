{
 "metadata": {
  "name": "",
  "signature": "sha256:83c112161ecbe7b6d4d6952d51b04c3bf866ed5e1f15fd11ba93d018bc317a3d"
 },
 "nbformat": 3,
 "nbformat_minor": 0,
 "worksheets": [
  {
   "cells": [
    {
     "cell_type": "heading",
     "level": 1,
     "metadata": {},
     "source": [
      "Physics Accuracy Testing for the Gazebo Simulator"
     ]
    },
    {
     "cell_type": "markdown",
     "metadata": {},
     "source": [
      "Documentation for accuracy testing in the [gazebo simulator](http://gazebosim.org). This document is [hosted on bitbucket](https://bitbucket.org/osrf/gazebo/src/signal_stats_inertia/test/accuracy/doc/boxes.ipynb) and can be [viewed here](http://nbviewer.ipython.org/urls/bitbucket.org/osrf/gazebo/raw/signal_stats_inertia/test/accuracy/doc/boxes.ipynb).\n",
      "\n",
      "Each set of tests is run for the physics engines supported by gazebo:\n",
      "\n",
      "* [Open Dynamics Engine (ODE)](http://ode.org), (source code on [bitbucket](https://bitbucket.org/odedevs/ode))\n",
      "* [Bullet](http://bulletphysics.org), (source code on [github](https://github.com/bulletphysics/bullet3))\n",
      "* [Simbody](https://simtk.org/home/simbody), (source code on [github](https://github.com/simbody/simbody))\n",
      "* [Dynamic Animation and Robotics Toolkit (DART)](http://dartsim.github.io), (source code on [github](https://github.com/dartsim/dart))"
     ]
    },
    {
     "cell_type": "heading",
     "level": 2,
     "metadata": {},
     "source": [
      "How to run the tests:"
     ]
    },
    {
     "cell_type": "markdown",
     "metadata": {},
     "source": [
      "The accuracy tests are currently in the\n",
      "[signal_stats_inertia branch](https://bitbucket.org/osrf/gazebo/branches/compare/signal_stats_inertia..gazebo_4.0)\n",
      "(which is also using code from\n",
      "[signal_stats_4.0](https://bitbucket.org/osrf/gazebo/branches/compare/signal_stats_4.0..gazebo_4.0)\n",
      "and\n",
      "[sdformat_protobuf](https://bitbucket.org/osrf/gazebo/branches/compare/sdformat_protobuf..gazebo_4.0)\n",
      "branches).\n",
      "\n",
      "To run the tests, make sure you have\n",
      "[installed the optional physics engines](http://gazebosim.org/tutorials/?tut=install#OptionalPhysicsEngines),\n",
      "and then clone and build gazebo:"
     ]
    },
    {
     "cell_type": "raw",
     "metadata": {},
     "source": [
      "hg clone https://bitbucket.org/osrf/gazebo\n",
      "hg up signal_stats_inertia\n",
      "mkdir build\n",
      "cd build\n",
      "cmake ..\n",
      "make\n",
      "# it doesn't need to be installed to run the tests"
     ]
    },
    {
     "cell_type": "markdown",
     "metadata": {},
     "source": [
      "The accuracy tests are in the\n",
      "[test/accuracy](https://bitbucket.org/osrf/gazebo/src/signal_stats_inertia/test/accuracy) folder.\n",
      "To run all the accuracy tests, use the following command from the build folder:"
     ]
    },
    {
     "cell_type": "raw",
     "metadata": {},
     "source": [
      "make test ARGS=\"-VV -R ACCURACY_*\""
     ]
    },
    {
     "cell_type": "markdown",
     "metadata": {},
     "source": [
      "This command will run the gtest executables with special command-line flags that generate xml output in the `build/test_results` folder.\n",
      "The generated xml files can be converted to comma-separated value files (csv) with the [tools/junit_to_csv.rb script](https://bitbucket.org/osrf/gazebo/src/signal_stats_inertia/tools/junit_to_csv.rb).\n",
      "For example, the xml from the boxes test can be converted to csv with the following command:"
     ]
    },
    {
     "cell_type": "raw",
     "metadata": {},
     "source": [
      "# starting from the build folder\n",
      "# put the csv file in test/accuracy/doc so the ipython notebook can load it\n",
      "../tools/junit_to_csv.rb test_results/ACCURACY_boxes.xml > ../test/accuracy/doc/boxes.csv"
     ]
    },
    {
     "cell_type": "heading",
     "level": 2,
     "metadata": {},
     "source": [
      "Boxes: unconstrained rigid body motion"
     ]
    },
    {
     "cell_type": "markdown",
     "metadata": {},
     "source": [
      "This test applies linear and angular impulses to unconstrained rigid bodies and verifies that their response matches the predicted analytical solutions."
     ]
    },
    {
     "cell_type": "heading",
     "level": 3,
     "metadata": {},
     "source": [
      "Rigid body math"
     ]
    },
    {
     "cell_type": "heading",
     "level": 6,
     "metadata": {},
     "source": [
      "TODO: add picture for the following math"
     ]
    },
    {
     "cell_type": "markdown",
     "metadata": {},
     "source": [
      "Consider an inertial frame $O$ and a rigid body with coordinate frame $c$ attached at the center of mass:\n",
      "\n",
      "* The position of the center of gravity (cg) in $O$ is given by $\\textbf{c}$.\n",
      "* The orientation of $c$ with respect to $O$ is given by the quaternion $q$.\n",
      "\n",
      "The rigid body has the following inertial parameters:\n",
      "\n",
      "* mass $m$\n",
      "* inertia matrix $\\textbf{I}$ expressed in $c$\n",
      "\n",
      "Further definitions:\n",
      "\n",
      "* A rotation matrix from $O$ to $q$: $\\textbf{R}(\\textbf{q})$\n",
      "* Angular velocity in frame $c$: $\\boldsymbol{\\omega}$.\n",
      "\n",
      "For time $t$, denote the initial conditions:\n",
      "\n",
      "* $\\textbf{c}(t=t_0) = \\textbf{c}_0$,\n",
      "* $\\dot{\\textbf{c}}(t=t_0) = \\dot{\\textbf{c}}_0$,\n",
      "* $\\textbf{q}(t=t_0) = \\textbf{q}_0$,\n",
      "* $\\boldsymbol{\\omega}(t=t_0) = \\boldsymbol{\\omega}_0$.\n",
      "\n",
      "Let $\\textbf{p}(t)$ represent linear momentum:\n",
      "\n",
      "* $\\textbf{p}(t) = m \\dot{\\textbf{c}}(t)$,\n",
      "* initial value of $\\textbf{p}_0$.\n",
      "\n",
      "Let $\\textbf{H}(t)$ represent the angular momentum with respect to the center of gravity, expressed in $O$:\n",
      "\n",
      "* $\\textbf{H}(t) = \\textbf{R}^T(\\textbf{q}(t))\\textbf{I}\\boldsymbol{\\omega}(t)$,\n",
      "* initial value of $\\textbf{H}_0$\n",
      "\n",
      "Let $T$ represent the kinetic energy as\n",
      "$T = \\frac{1}{2} m \\dot{\\textbf{c}}^T \\dot{\\textbf{c}} +\n",
      "     \\frac{1}{2} \\textbf{I} \\boldsymbol{\\omega}^T \\boldsymbol{\\omega}$,\n",
      "and an initial value of $T_0$"
     ]
    },
    {
     "cell_type": "heading",
     "level": 3,
     "metadata": {},
     "source": [
      "Analytical solution: gravity-free environment"
     ]
    },
    {
     "cell_type": "markdown",
     "metadata": {},
     "source": [
      "In a gravity-free environment with no external forces, linear momentum, angular momentum, and energy are conserved.\n",
      "\n",
      "* Linear momentum conservation:\n",
      "\n",
      "    * $\\textbf{p}(t) = \\textbf{p}_0$\n",
      "    * $\\dot{\\textbf{c}}(t) = \\dot{\\textbf{c}}_0$\n",
      "    * $\\textbf{c}(t) = \\textbf{c}_0 + \\dot{\\textbf{c}}_0(t-t_0)$\n",
      "    * Linear momentum conservation implies a straight-line trajectory of the box center of gravity, constant linear speed $\\dot{\\textbf{c}}(t)$ and position $\\textbf{c}(t)$ changing linearly with time.\n",
      "\n",
      "* Angular momentum conservation:\n",
      " \n",
      "    * $\\textbf{H}(t) = \\textbf{H}_0$,\n",
      "    * $\\textbf{R}^T(\\textbf{q(t)})\\textbf{I}\\boldsymbol{\\omega}(t) =\n",
      "      \\textbf{R}^T(\\textbf{q}_0)\\textbf{I}\\boldsymbol{\\omega}_0$\n",
      "    * Angular momentum implies that the angular momentum vector will be constant in a fixed frame. With gyroscopic effects, this can cause tumbling. To see gyroscopic effects, use inertial parameters for a 1x4x9 box.\n",
      "\n",
      "* Energy conservation:\n",
      "    * $T(t) = T_0$,\n",
      "    * Kinetic energy is contant, no potential energy\n"
     ]
    },
    {
     "cell_type": "heading",
     "level": 3,
     "metadata": {},
     "source": [
      "Inertial parameters for box"
     ]
    },
    {
     "cell_type": "markdown",
     "metadata": {},
     "source": [
      "These tests use a box of uniform density with relative dimensions 1x4x9. The inertial properties are computed below:"
     ]
    },
    {
     "cell_type": "code",
     "collapsed": false,
     "input": [
      "# Inertial parameters for gyroscopic effects in accuracy test\n",
      "from numpy import diag\n",
      "\n",
      "# Use inertial parameters for uniform box of 10 kg with dimensions 0.1 x 0.4 x 0.9 (m^3)\n",
      "m = 10.0\n",
      "box_x = 0.1\n",
      "box_y = 0.4\n",
      "box_z = 0.9\n",
      "Ixx = m/12.0 * (box_y**2 + box_z**2)\n",
      "Iyy = m/12.0 * (box_z**2 + box_x**2)\n",
      "Izz = m/12.0 * (box_x**2 + box_y**2)\n",
      "I = diag([Ixx, Iyy, Izz])\n",
      "print I"
     ],
     "language": "python",
     "metadata": {},
     "outputs": []
    },
    {
     "cell_type": "heading",
     "level": 3,
     "metadata": {},
     "source": [
      "Analytical solution: with gravity"
     ]
    },
    {
     "cell_type": "markdown",
     "metadata": {},
     "source": [
      "With gravity vector $\\textbf{g}$ acting:\n",
      "\n",
      "* Newton 2nd law implies:\n",
      "    * $\\dot{\\textbf{p}}(t) = m \\textbf{g}$,\n",
      "    * $\\ddot{\\textbf{c}}(t) = \\textbf{g}$,\n",
      "    * $\\dot{\\textbf{c}}(t) = \\dot{\\textbf{c}}_0 + \\textbf{g} (t-t_0)$,\n",
      "    * $\\textbf{c}(t) = \\textbf{c}_0 + \\dot{\\textbf{c}}_0(t-t_0) + \\frac{1}{2} \\textbf{g} (t-t_0)^2$\n",
      "    * The cg acceleration is constant, the velocity is linear in time, and the position is parabolic in time.\n",
      "\n",
      "* Angular momentum: see previous section \"Without gravity\".\n",
      "\n",
      "* Energy conservation:\n",
      "    * see definition of kinetic energy $T$ from previous section\n",
      "    * define potential energy $V(\\textbf{c}) = m \\textbf{g}^T \\textbf{c}$, with $V=0$ when the cg has a height of 0.\n",
      "    * initial value of $V$: $V_0 = m \\textbf{g}^T \\textbf{c}_0$\n",
      "    * total energy $E(t) = T + V$:\n",
      "    * initial value of $E$: $E_0 = T_0 + V_0$"
     ]
    },
    {
     "cell_type": "code",
     "collapsed": false,
     "input": [],
     "language": "python",
     "metadata": {},
     "outputs": []
    },
    {
     "cell_type": "code",
     "collapsed": false,
     "input": [
      "# function for exact matching or partial string matching\n",
      "# used for selecting specific test cases based on test parameters\n",
      "def match(a,b):\n",
      "    if a == b:\n",
      "        return True\n",
      "    else:\n",
      "        try:\n",
      "            if a in b:\n",
      "                return True\n",
      "        except:\n",
      "            return False\n",
      "    return False\n",
      "\n",
      "# query a dictionary of arrays for indices of matching parameters\n",
      "def query(d, params):\n",
      "    result = []\n",
      "    for k in params:\n",
      "        result.append(set([i for i,x in enumerate(d[k]) if match(params[k], x)]))\n",
      "    return sorted(set.intersection(*result))"
     ],
     "language": "python",
     "metadata": {},
     "outputs": []
    },
    {
     "cell_type": "code",
     "collapsed": false,
     "input": [
      "# open data file as csv and construct dictionary of arrays\n",
      "import csv\n",
      "import numpy as np\n",
      "with open('boxes.csv', 'rb') as csvfile:\n",
      "    spamreader = csv.DictReader(csvfile)\n",
      "    csvArray = []\n",
      "    csvDict = {}\n",
      "    for field in spamreader.fieldnames:\n",
      "        csvDict[field] = []\n",
      "    csvDict[None] = []\n",
      "    for row in spamreader:\n",
      "        csvArray.append(row)\n",
      "        for k in row.keys():\n",
      "            try:\n",
      "                csvDict[k] = np.append(csvDict[k], float(row[k]))\n",
      "            except:\n",
      "                csvDict[k].append(row[k])\n",
      "print sorted(csvDict.keys())"
     ],
     "language": "python",
     "metadata": {},
     "outputs": []
    },
    {
     "cell_type": "code",
     "collapsed": false,
     "input": [
      "# helper functions for plotting\n",
      "import matplotlib as mpl\n",
      "import matplotlib.pyplot as plt\n",
      "%matplotlib inline\n",
      "mpl.rcParams.update({'font.size': 16})\n",
      "\n",
      "def plotEngines(params, yname, xname='timeRatio'\n",
      "                             , xlabel='Time'\n",
      "                             , ylabel='Error'\n",
      "                             , title='title'\n",
      "                             ):\n",
      "    engines = {}\n",
      "    engines['ode'] = 'bo-'\n",
      "    engines['bullet'] = 'rx--'\n",
      "    engines['simbody'] = 'gv-'\n",
      "    engines['dart'] = 'k^--'\n",
      "    fig = plt.figure()\n",
      "    for e in sorted(engines.keys()):\n",
      "        params['engine'] = e\n",
      "        ii = np.array(list(query(csvDict, params)))\n",
      "        plt.plot(csvDict[xname][ii]\n",
      "               , csvDict[yname][ii]\n",
      "               , engines[e], mfc=\"None\"\n",
      "               , markersize=10.0\n",
      "               , markeredgewidth=2.0\n",
      "               , markeredgecolor=engines[e][0]\n",
      "               )\n",
      "    plt.grid()\n",
      "    plt.xlabel(xlabel, fontsize=18)\n",
      "    plt.ylabel(ylabel, fontsize=18)\n",
      "    plt.title(title)\n",
      "    plt.gcf().set_size_inches(8, 6)\n",
      "    plt.legend(sorted(engines.keys()), loc='best')\n",
      "    \n",
      "def plotGravity(gravity, yname, title\n",
      "              , xname='timeRatio'\n",
      "              , xlabel='Time (% real time)'\n",
      "              , ylabel='Error'\n",
      "               ):\n",
      "    p = {}\n",
      "    p['classname'] = 'EnginesDtGravity'\n",
      "    p['gravity'] = float(gravity)\n",
      "    title_suffix = ': with'\n",
      "    if p['gravity'] == 0.0:\n",
      "        title_suffix +='out'\n",
      "    title_suffix += ' gravity'\n",
      "    plotEngines(params=p\n",
      "              , yname=yname\n",
      "              , title=title+title_suffix\n",
      "              , xname=xname\n",
      "              , xlabel=xlabel\n",
      "              , ylabel=ylabel\n",
      "               )\n",
      "    file_prefix = 'grav' + str(int(p['gravity']))\n",
      "    return file_prefix\n"
     ],
     "language": "python",
     "metadata": {},
     "outputs": []
    },
    {
     "cell_type": "code",
     "collapsed": false,
     "input": [
      "# Plot position error varying gravity and dt\n",
      "for gravity in [0, 1]:\n",
      "    file_mid = '_pos'\n",
      "    file_prefix = plotGravity(gravity\n",
      "                            , yname='linPositionErrMaxAbs'\n",
      "                            , title='Position error (m)'\n",
      "                             )\n",
      "    plt.savefig(file_prefix + file_mid + '.png')"
     ],
     "language": "python",
     "metadata": {},
     "outputs": []
    },
    {
     "cell_type": "code",
     "collapsed": false,
     "input": [
      "# Plot velocity error varying gravity and dt\n",
      "for gravity in [0, 1]:\n",
      "    file_mid = '_vel'\n",
      "    file_prefix = plotGravity(gravity\n",
      "                            , yname='linVelocityErrMaxAbs'\n",
      "                            , title='Velocity error (m/s)'\n",
      "                             )\n",
      "    plt.savefig(file_prefix + file_mid + '.png')\n"
     ],
     "language": "python",
     "metadata": {},
     "outputs": []
    },
    {
     "cell_type": "code",
     "collapsed": false,
     "input": [
      "# Plot angular momentum error varying gravity and dt\n",
      "for gravity in [0, 1]:\n",
      "    file_mid = '_ang'\n",
      "    file_prefix = plotGravity(gravity\n",
      "                            , yname='angMomentumErrMaxAbs'\n",
      "                            , title='Angular momentum error (%)'\n",
      "                             )\n",
      "    plt.savefig(file_prefix + file_mid + '.png')\n"
     ],
     "language": "python",
     "metadata": {},
     "outputs": []
    },
    {
     "cell_type": "code",
     "collapsed": false,
     "input": [
      "# Plot energy error varying gravity and dt\n",
      "for gravity in [0, 1]:\n",
      "    file_mid = '_energy'\n",
      "    file_prefix = plotGravity(gravity\n",
      "                            , yname='energyErrorMaxAbs'\n",
      "                            , title='Energy error (%)'\n",
      "                             )\n",
      "    plt.savefig(file_prefix + file_mid + '.png')\n"
     ],
     "language": "python",
     "metadata": {},
     "outputs": []
    },
    {
     "cell_type": "code",
     "collapsed": false,
     "input": [
      "# Plot energy error varying gravity and dt\n",
      "for gravity in [0, 1]:\n",
      "    file_mid = '_energy_dt'\n",
      "    file_prefix = plotGravity(gravity\n",
      "                            , xname='dt'\n",
      "                            , yname='energyErrorMaxAbs'\n",
      "                            , title='Energy error (%)'\n",
      "                            , xlabel='Time step (s)'\n",
      "                             )\n",
      "    plt.savefig(file_prefix + file_mid + '.png')\n"
     ],
     "language": "python",
     "metadata": {},
     "outputs": []
    },
    {
     "cell_type": "code",
     "collapsed": false,
     "input": [
      "# Make some plots based on different numbers of spawned boxes\n",
      "p = {}\n",
      "p['classname'] = 'Boxes'\n",
      "title_suffix = ': multiple boxes'\n",
      "file_prefix = 'boxes'\n",
      "file_suffix = '.png'\n",
      "xname='timeRatio'\n",
      "xlabel='Time (% real time)'\n",
      "ylabel='Boxes'\n",
      "\n",
      "ii = query(csvDict, p)\n",
      "print csvDict['dt'][ii]\n",
      "print csvDict['energyErrorMaxAbs'][ii]\n",
      "\n",
      "plotEngines(p, 'boxCount'\n",
      "          , title='Performance with multiple boxes'\n",
      "          , xname=xname\n",
      "          , xlabel=xlabel\n",
      "          , ylabel=ylabel\n",
      "          )\n",
      "plt.savefig(file_prefix + '_performance' + file_suffix)\n",
      "\n",
      "plotEngines(p, 'energyErrorMaxAbs'\n",
      "          , title='Energy error with multiple boxes'\n",
      "          )\n",
      "plt.savefig(file_prefix + '_energy' + file_suffix)\n",
      "\n",
      "plotEngines(p, 'angMomentumErrMaxAbs'\n",
      "          , title='Angular momentum error with multiple boxes'\n",
      "          )\n",
      "plt.savefig(file_prefix + '_ang' + file_suffix)\n"
     ],
     "language": "python",
     "metadata": {},
     "outputs": []
    },
    {
     "cell_type": "code",
     "collapsed": false,
     "input": [],
     "language": "python",
     "metadata": {},
     "outputs": []
    },
    {
     "cell_type": "code",
     "collapsed": false,
     "input": [
      "[i for i,row in enumerate(csvArray) if \n",
      "    print i if 'EnginesDtGravity' in row['classname']"
     ],
     "language": "python",
     "metadata": {},
     "outputs": []
    },
    {
     "cell_type": "code",
     "collapsed": false,
     "input": [
      "print sorted(csvDict.keys())\n",
      "print csvDict['classname']"
     ],
     "language": "python",
     "metadata": {},
     "outputs": []
    },
    {
     "cell_type": "code",
     "collapsed": false,
     "input": [
      "def printEnergyDt(engine):\n",
      "    p2 = p\n",
      "    p2['engine'] = engine\n",
      "    ii = query(csvDict, p2)\n",
      "    print [np.mean(csvDict['energyErrorMaxAbs'][ii]*csvDict['timeRatio'][ii])\n",
      "         , np.mean(csvDict['energyErrorMaxAbs'][ii]/csvDict['dt'][ii])\n",
      "         , 2.5/np.mean(csvDict['energyErrorMaxAbs'][ii]/csvDict['dt'][ii])]\n",
      "printEnergyDt('ode')\n",
      "printEnergyDt('bullet')\n",
      "printEnergyDt('simbody')\n",
      "printEnergyDt('dart')"
     ],
     "language": "python",
     "metadata": {},
     "outputs": []
    },
    {
     "cell_type": "code",
     "collapsed": false,
     "input": [],
     "language": "python",
     "metadata": {},
     "outputs": []
    }
   ],
   "metadata": {}
  }
 ]
}