{
 "metadata": {
  "name": ""
 },
 "nbformat": 3,
 "nbformat_minor": 0,
 "worksheets": [
  {
   "cells": [
    {
     "cell_type": "code",
     "collapsed": false,
     "input": [
      "import csv\n",
      "import numpy as np\n",
      "import matplotlib as mpl\n",
      "import matplotlib.pyplot as plt\n",
      "%matplotlib inline"
     ],
     "language": "python",
     "metadata": {},
     "outputs": []
    },
    {
     "cell_type": "code",
     "collapsed": false,
     "input": [
      "def match(a,b):\n",
      "    if a == b:\n",
      "        return True\n",
      "    else:\n",
      "        try:\n",
      "            if a in b:\n",
      "                return True\n",
      "        except:\n",
      "            return False\n",
      "    return False\n",
      "\n",
      "def query(d, params):\n",
      "    result = []\n",
      "    for k in params:\n",
      "        result.append(set([i for i,x in enumerate(d[k]) if match(params[k], x)]))\n",
      "    return sorted(set.intersection(*result))"
     ],
     "language": "python",
     "metadata": {},
     "outputs": []
    },
    {
     "cell_type": "code",
     "collapsed": false,
     "input": [
      "with open('boxes.csv', 'rb') as csvfile:\n",
      "    spamreader = csv.DictReader(csvfile)\n",
      "    csvArray = []\n",
      "    csvDict = {}\n",
      "    for field in spamreader.fieldnames:\n",
      "        csvDict[field] = []\n",
      "    csvDict[None] = []\n",
      "    for row in spamreader:\n",
      "        csvArray.append(row)\n",
      "        for k in row.keys():\n",
      "            try:\n",
      "                csvDict[k] = np.append(csvDict[k], float(row[k]))\n",
      "            except:\n",
      "                csvDict[k].append(row[k])\n",
      "print sorted(csvDict.keys())"
     ],
     "language": "python",
     "metadata": {},
     "outputs": []
    },
    {
     "cell_type": "code",
     "collapsed": false,
     "input": [
      "mpl.rcParams.update({'font.size': 16})\n",
      "def plotEngines(params, yname, xname='elapsedWallTime'\n",
      "                             , xlabel='Time'\n",
      "                             , ylabel='Error'\n",
      "                             , title='title'\n",
      "                             ):\n",
      "    engines = {}\n",
      "    engines['ode'] = 'bo-'\n",
      "    engines['bullet'] = 'rx--'\n",
      "    engines['simbody'] = 'gv-'\n",
      "    engines['dart'] = 'k^--'\n",
      "    for e in sorted(engines.keys()):\n",
      "        params['engine'] = e\n",
      "        ii = np.array(list(query(csvDict, params)))\n",
      "        plt.plot(csvDict[xname][ii]\n",
      "               , csvDict[yname][ii]\n",
      "               , engines[e], mfc=\"None\"\n",
      "               , markersize=10.0\n",
      "               , markeredgewidth=2.0\n",
      "               , markeredgecolor=engines[e][0]\n",
      "               )\n",
      "    plt.grid()\n",
      "    plt.xlabel(xlabel, fontsize=18)\n",
      "    plt.ylabel(ylabel, fontsize=18)\n",
      "    plt.title(title)\n",
      "    plt.gcf().set_size_inches(8, 6)\n",
      "    plt.legend(sorted(engines.keys()), loc='best')"
     ],
     "language": "python",
     "metadata": {},
     "outputs": []
    },
    {
     "cell_type": "code",
     "collapsed": false,
     "input": [
      "# Make some plots based on time-step variation with no gravity\n",
      "p = {}\n",
      "p['classname'] = 'EnginesDtGravity'\n",
      "p['gravity'] = 0.0\n",
      "title_suffix = ': without gravity'\n",
      "file_prefix = 'grav' + str(int(p['gravity']))\n",
      "file_suffix = '.png'\n",
      "xname='elapsedWallTime'\n",
      "xlabel='Time'\n",
      "ylabel='Error'"
     ],
     "language": "python",
     "metadata": {},
     "outputs": []
    },
    {
     "cell_type": "code",
     "collapsed": false,
     "input": [
      "# Make some plots based on time-step variation with gravity on\n",
      "p = {}\n",
      "p['classname'] = 'EnginesDtGravity'\n",
      "p['gravity'] = 1.0\n",
      "title_suffix = ': with gravity'\n",
      "file_prefix = 'grav' + str(int(p['gravity']))\n",
      "file_suffix = '.png'\n",
      "xname='elapsedWallTime'\n",
      "xlabel='Time'\n",
      "ylabel='Error'"
     ],
     "language": "python",
     "metadata": {},
     "outputs": []
    },
    {
     "cell_type": "code",
     "collapsed": false,
     "input": [
      "plotEngines(p, 'linPositionErrMaxAbs'\n",
      "          , title='Position error (m)' + title_suffix\n",
      "          , xname=xname\n",
      "          , xlabel=xlabel\n",
      "          , ylabel=ylabel\n",
      "          )\n",
      "if 'gravity' in p.keys() and p['gravity'] == 0.0:\n",
      "    plt.ylim(-1e-5, 1e-4)\n",
      "plt.savefig(file_prefix + '_pos' + file_suffix)"
     ],
     "language": "python",
     "metadata": {},
     "outputs": []
    },
    {
     "cell_type": "code",
     "collapsed": false,
     "input": [
      "plotEngines(p, 'linVelocityErrMaxAbs'\n",
      "          , title='Velocity error (m/s)' + title_suffix\n",
      "          , xname=xname\n",
      "          , xlabel=xlabel\n",
      "          , ylabel=ylabel\n",
      "          )\n",
      "if 'gravity' in p.keys() and p['gravity'] == 0.0:\n",
      "    plt.ylim(-1e-6, 1e-5)\n",
      "plt.savefig(file_prefix + '_vel' + file_suffix)"
     ],
     "language": "python",
     "metadata": {},
     "outputs": []
    },
    {
     "cell_type": "code",
     "collapsed": false,
     "input": [
      "plotEngines(p, 'angMomentumErrMaxAbs'\n",
      "          , title='Angular momentum error (%)' + title_suffix\n",
      "          , xname=xname\n",
      "          , xlabel=xlabel\n",
      "          , ylabel=ylabel\n",
      "          )\n",
      "if 'gravity' in p.keys():\n",
      "    plt.ylim(-1e-6, 1e-4)\n",
      "plt.savefig(file_prefix + '_ang' + file_suffix)"
     ],
     "language": "python",
     "metadata": {},
     "outputs": []
    },
    {
     "cell_type": "code",
     "collapsed": false,
     "input": [
      "plotEngines(p, 'energyErrorMaxAbs'\n",
      "          , title='Energy error (%)' + title_suffix\n",
      "          , xname=xname\n",
      "          , xlabel=xlabel\n",
      "          , ylabel=ylabel\n",
      "          )\n",
      "if 'gravity' in p.keys() and p['gravity'] == 0.0:\n",
      "    plt.ylim(-1e-6, 1e-5)\n",
      "plt.savefig(file_prefix + '_energy' + file_suffix)"
     ],
     "language": "python",
     "metadata": {},
     "outputs": []
    },
    {
     "cell_type": "code",
     "collapsed": false,
     "input": [
      "# Make some plots based on different numbers of spawned boxes\n",
      "p = {}\n",
      "p['classname'] = 'EnginesBoxes'\n",
      "title_suffix = ': multiple boxes'\n",
      "file_prefix = 'boxes'\n",
      "file_suffix = '.png'\n",
      "xname='elapsedWallTime'\n",
      "xlabel='Time'\n",
      "ylabel='Boxes'"
     ],
     "language": "python",
     "metadata": {},
     "outputs": []
    },
    {
     "cell_type": "code",
     "collapsed": false,
     "input": [
      "plotEngines(p, 'boxCount'\n",
      "          , title='Performance with multiple boxes'\n",
      "          , xname=xname\n",
      "          , xlabel=xlabel\n",
      "          , ylabel=ylabel\n",
      "          )\n",
      "plt.savefig(file_prefix + '_performance' + file_suffix)"
     ],
     "language": "python",
     "metadata": {},
     "outputs": []
    },
    {
     "cell_type": "code",
     "collapsed": false,
     "input": [
      "[i for i,row in enumerate(csvArray) if \n",
      "    print i if 'EnginesDtGravity' in row['classname']"
     ],
     "language": "python",
     "metadata": {},
     "outputs": []
    },
    {
     "cell_type": "code",
     "collapsed": false,
     "input": [
      "print sorted(csvDict.keys())\n",
      "print csvDict[None]"
     ],
     "language": "python",
     "metadata": {},
     "outputs": []
    },
    {
     "cell_type": "code",
     "collapsed": false,
     "input": [
      "0.0 in 1.0"
     ],
     "language": "python",
     "metadata": {},
     "outputs": []
    },
    {
     "cell_type": "code",
     "collapsed": false,
     "input": [
      "'ode' == 'ode'"
     ],
     "language": "python",
     "metadata": {},
     "outputs": []
    },
    {
     "cell_type": "code",
     "collapsed": false,
     "input": [
      "'ode' == 'sode'"
     ],
     "language": "python",
     "metadata": {},
     "outputs": []
    },
    {
     "cell_type": "code",
     "collapsed": false,
     "input": [
      "x = np.append([0], [1, 2, 3])\n",
      "print x\n",
      "print type(x)"
     ],
     "language": "python",
     "metadata": {},
     "outputs": []
    },
    {
     "cell_type": "code",
     "collapsed": false,
     "input": [
      "np.array([0, 1, 2, 3, 4])"
     ],
     "language": "python",
     "metadata": {},
     "outputs": []
    },
    {
     "cell_type": "code",
     "collapsed": false,
     "input": [
      "str(int(0.0))"
     ],
     "language": "python",
     "metadata": {},
     "outputs": []
    },
    {
     "cell_type": "code",
     "collapsed": false,
     "input": [],
     "language": "python",
     "metadata": {},
     "outputs": []
    }
   ],
   "metadata": {}
  }
 ]
}