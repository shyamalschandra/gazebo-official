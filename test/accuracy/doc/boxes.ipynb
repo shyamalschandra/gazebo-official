{
 "metadata": {
  "name": "",
  "signature": "sha256:1b450a3bef0f5cc2e76c215190f933117e2551790e246071306afe9a98505fee"
 },
 "nbformat": 3,
 "nbformat_minor": 0,
 "worksheets": [
  {
   "cells": [
    {
     "cell_type": "heading",
     "level": 1,
     "metadata": {},
     "source": [
      "Physics Accuracy Testing for the Gazebo Simulator"
     ]
    },
    {
     "cell_type": "markdown",
     "metadata": {},
     "source": [
      "Documentation for accuracy testing in the [gazebo simulator](http://gazebosim.org). This document is [hosted on bitbucket](https://bitbucket.org/osrf/gazebo/src/signal_stats_inertia/test/accuracy/doc/boxes.ipynb) and can be [viewed here](http://nbviewer.ipython.org/urls/bitbucket.org/osrf/gazebo/raw/signal_stats_inertia/test/accuracy/doc/boxes.ipynb).\n",
      "\n",
      "Each set of tests is run for the physics engines supported by gazebo:\n",
      "\n",
      "* [Open Dynamics Engine (ODE)](http://ode.org), (source code on [bitbucket](https://bitbucket.org/odedevs/ode))\n",
      "* [Bullet](http://bulletphysics.org), (source code on [github](https://github.com/bulletphysics/bullet3))\n",
      "* [Simbody](https://simtk.org/home/simbody), (source code on [github](https://github.com/simbody/simbody))\n",
      "* [Dynamic Animation and Robotics Toolkit (DART)](http://dartsim.github.io), (source code on [github](https://github.com/dartsim/dart))"
     ]
    },
    {
     "cell_type": "heading",
     "level": 2,
     "metadata": {},
     "source": [
      "How to run the tests:"
     ]
    },
    {
     "cell_type": "markdown",
     "metadata": {},
     "source": [
      "The accuracy tests are currently in the\n",
      "[signal_stats_inertia branch](https://bitbucket.org/osrf/gazebo/branches/compare/signal_stats_inertia..gazebo_4.0)\n",
      "(which is also using code from\n",
      "[signal_stats_4.0](https://bitbucket.org/osrf/gazebo/branches/compare/signal_stats_4.0..gazebo_4.0)\n",
      "and\n",
      "[sdformat_protobuf](https://bitbucket.org/osrf/gazebo/branches/compare/sdformat_protobuf..gazebo_4.0)\n",
      "branches).\n",
      "\n",
      "To run the tests, make sure you have\n",
      "[installed the optional physics engines](http://gazebosim.org/tutorials/?tut=install#OptionalPhysicsEngines),\n",
      "and then clone and build gazebo:\n",
      "\n",
      "~~~\n",
      "hg clone https://bitbucket.org/osrf/gazebo\n",
      "hg up signal_stats_inertia\n",
      "mkdir build\n",
      "cd build\n",
      "cmake ..\n",
      "make\n",
      "# it doesn't need to be installed to run the tests\n",
      "~~~\n",
      "The accuracy tests are in the\n",
      "[test/accuracy](https://bitbucket.org/osrf/gazebo/src/signal_stats_inertia/test/accuracy) folder.\n",
      "To run all the accuracy tests, use the following command from the build folder:\n",
      "~~~\n",
      "make test ARGS=\"-VV -R ACCURACY_*\"\n",
      "~~~\n",
      "This command will run the gtest executables with special command-line flags that generate xml output in the `build/test_results` folder.\n",
      "The generated xml files can be converted to comma-separated value files (csv) with the [tools/junit_to_csv.rb script](https://bitbucket.org/osrf/gazebo/src/signal_stats_inertia/tools/junit_to_csv.rb).\n",
      "For example, the xml from the boxes test can be converted to csv with the following command:\n",
      "~~~\n",
      "# starting from the build folder\n",
      "# put the csv file in test/accuracy/doc so the ipython notebook can load it\n",
      "../tools/junit_to_csv.rb test_results/ACCURACY_boxes.xml > ../test/accuracy/doc/boxes.csv\n",
      "~~~\n",
      "\n",
      "To load and visualize the test results, you should make sure ipython notebook, matplotlib, and numpy are installed on your machine:\n",
      "~~~\n",
      "# Ubuntu Precise: do this step first\n",
      "# Trusty uses ipython 1.2.1, use ppa on Precise to get the newer version\n",
      "sudo apt-add-repository ppa:jtaylor/ipython\n",
      "\n",
      "# Ubuntu Precise and Trusty\n",
      "sudo apt-get install ipython-notebook python-matplotlib python-numpy\n",
      "\n",
      "# Mac\n",
      "brew install matplotlib\n",
      "# do the following in specific terminals when using ipython notebook\n",
      "export PYTHONPATH=/usr/local/lib/python2.7/site-packages\n",
      "~~~\n",
      "With the proper dependencies installed run ipython notebook from the test/accuracy/doc folder:\n",
      "~~~\n",
      "cd test/accuracy/doc\n",
      "ipython notebook\n",
      "~~~\n",
      "The code in the following cells defines helper functions to load and plot the data."
     ]
    },
    {
     "cell_type": "code",
     "collapsed": false,
     "input": [
      "# function for exact matching or partial string matching\n",
      "# used for selecting specific test cases based on test parameters\n",
      "def match(a,b):\n",
      "    if a == b:\n",
      "        return True\n",
      "    else:\n",
      "        try:\n",
      "            if a in b:\n",
      "                return True\n",
      "        except:\n",
      "            return False\n",
      "    return False"
     ],
     "language": "python",
     "metadata": {},
     "outputs": []
    },
    {
     "cell_type": "code",
     "collapsed": false,
     "input": [
      "# open data file as csv and construct dictionary of arrays\n",
      "import csv\n",
      "import numpy as np\n",
      "def makeCsvDictOfArrays(filename):\n",
      "    with open(filename, 'rb') as csvfile:\n",
      "        spamreader = csv.DictReader(csvfile)\n",
      "        csvDict = {}\n",
      "        for field in spamreader.fieldnames:\n",
      "            csvDict[field] = []\n",
      "        csvDict[None] = []\n",
      "        for row in spamreader:\n",
      "            for k in row.keys():\n",
      "                try:\n",
      "                    csvDict[k] = np.append(csvDict[k], float(row[k]))\n",
      "                except:\n",
      "                    csvDict[k].append(row[k])\n",
      "        return csvDict"
     ],
     "language": "python",
     "metadata": {},
     "outputs": []
    },
    {
     "cell_type": "code",
     "collapsed": false,
     "input": [
      "# query a dictionary of arrays for indices of matching parameters\n",
      "def query(d, params):\n",
      "    result = []\n",
      "    for k in params:\n",
      "        result.append(set([i for i,x in enumerate(d[k]) if match(params[k], x)]))\n",
      "    return sorted(set.intersection(*result))"
     ],
     "language": "python",
     "metadata": {},
     "outputs": []
    },
    {
     "cell_type": "heading",
     "level": 2,
     "metadata": {},
     "source": [
      "Boxes: unconstrained rigid body motion"
     ]
    },
    {
     "cell_type": "markdown",
     "metadata": {},
     "source": [
      "This test applies linear and angular impulses to unconstrained rigid bodies and verifies that their response matches the predicted analytical solutions."
     ]
    },
    {
     "cell_type": "code",
     "collapsed": false,
     "input": [
      "import pprint\n",
      "pp = pprint.PrettyPrinter(indent=4)\n",
      "boxes = makeCsvDictOfArrays('boxes.csv')\n",
      "pp.pprint(set(boxes['classname']))\n",
      "pp.pprint(set(boxes.keys()))"
     ],
     "language": "python",
     "metadata": {},
     "outputs": []
    },
    {
     "cell_type": "code",
     "collapsed": false,
     "input": [
      "# helper functions for plotting\n",
      "import matplotlib as mpl\n",
      "import matplotlib.pyplot as plt\n",
      "%matplotlib inline\n",
      "mpl.rcParams.update({'font.size': 16})"
     ],
     "language": "python",
     "metadata": {},
     "outputs": []
    },
    {
     "cell_type": "code",
     "collapsed": false,
     "input": [
      "def plotEnginesDt(params, yname\n",
      "                        , csvDict=boxes\n",
      "                        , legend='best'\n",
      "                        , xname='dt'\n",
      "                        , xlabel='Time step (s)'\n",
      "                        , ylabel='Error'\n",
      "                        , yscale='linear'\n",
      "                        , title='title'\n",
      "                        ):\n",
      "    engines = {}\n",
      "    engines['bullet'] = ['$B$', 'b--']\n",
      "    engines['dart'] = ['$d$', 'g--']\n",
      "    engines['ode'] = ['$O$', 'r--']\n",
      "    engines['simbody'] = ['$S$', 'k--']\n",
      "    fig = plt.figure()\n",
      "    xdata = {}\n",
      "    ydata = {}\n",
      "    for e in sorted(engines.keys()):\n",
      "        params['engine'] = e\n",
      "        ii = np.array(list(query(csvDict, params)))\n",
      "        xdata[e] = csvDict[xname][ii]\n",
      "        ydata[e] = csvDict[yname][ii]\n",
      "        color = engines[e][1][0]\n",
      "        plt.plot(xdata[e]\n",
      "               , ydata[e]+np.finfo(float).eps\n",
      "               , engines[e][1]\n",
      "               , mfc=color\n",
      "               , marker=engines[e][0]\n",
      "               , markersize=20.0\n",
      "               , markeredgecolor=color\n",
      "               , linewidth=2.0\n",
      "               )\n",
      "    plt.grid()\n",
      "    plt.xlabel(xlabel, fontsize=18)\n",
      "    plt.ylabel(ylabel, fontsize=18)\n",
      "    plt.gca().set_yscale(yscale)\n",
      "    plt.title(title)\n",
      "    plt.gcf().set_size_inches(10, 6)\n",
      "    plt.legend(sorted(engines.keys()), loc=legend)\n",
      "    plt.show()\n",
      "    # some extra info about each plot\n",
      "    xdata_minmax = {}\n",
      "    ydata_minmax = {}\n",
      "    for e in sorted(engines.keys()):\n",
      "        xdata_minmax[e] = [min(xdata[e]), max(xdata[e])]\n",
      "        ydata_minmax[e] = [min(ydata[e]), max(ydata[e])]\n",
      "    print title\n",
      "    print 'Min/Max of ' + ylabel\n",
      "    pp.pprint(ydata_minmax)\n",
      "    print 'Min/Max of ' + xlabel\n",
      "    pp.pprint(xdata_minmax)\n",
      "    "
     ],
     "language": "python",
     "metadata": {},
     "outputs": []
    },
    {
     "cell_type": "code",
     "collapsed": false,
     "input": [
      "def plotEnginesTime(params, yname\n",
      "                  , csvDict=boxes\n",
      "                  , legend='best'\n",
      "                  , xname='timeRatio'\n",
      "                  , xlabel='Time ratio (real / sim)'\n",
      "                  , ylabel='Error'\n",
      "                  , yscale='linear'\n",
      "                  , title='title'\n",
      "                   ):\n",
      "    plotEnginesDt(params, yname\n",
      "                  , csvDict=csvDict\n",
      "                  , legend=legend\n",
      "                  , xname=xname\n",
      "                  , xlabel=xlabel\n",
      "                  , ylabel=ylabel\n",
      "                  , yscale=yscale\n",
      "                  , title=title\n",
      "                  )"
     ],
     "language": "python",
     "metadata": {},
     "outputs": []
    },
    {
     "cell_type": "code",
     "collapsed": false,
     "input": [
      "def plotEnginesModelCount(params, yname\n",
      "                  , csvDict=boxes\n",
      "                  , legend='best'\n",
      "                  , xname='modelCount'\n",
      "                  , xlabel='Model count'\n",
      "                  , ylabel='Time ratio (real / sim)'\n",
      "                  , yscale='linear'\n",
      "                  , title='title'\n",
      "                   ):\n",
      "    plotEnginesDt(params, yname\n",
      "                  , csvDict=csvDict\n",
      "                  , legend=legend\n",
      "                  , xname=xname\n",
      "                  , xlabel=xlabel\n",
      "                  , ylabel=ylabel\n",
      "                  , yscale=yscale\n",
      "                  , title=title\n",
      "                  )"
     ],
     "language": "python",
     "metadata": {},
     "outputs": []
    },
    {
     "cell_type": "code",
     "collapsed": false,
     "input": [
      "def plotErrorDt(classname, title_prefix\n",
      "                , csvDict=boxes\n",
      "                , legend='best'\n",
      "                , yscale='linear'):\n",
      "    p = {}\n",
      "    p['classname'] = classname\n",
      "    title_prefix = title_prefix\n",
      "    plotEnginesDt(p, yname='linPositionErrMaxAbs', title=title_prefix + 'position'\n",
      "                  , csvDict=csvDict, legend=legend, yscale=yscale)\n",
      "    plotEnginesDt(p, yname='angPositionErrMaxAbs', title=title_prefix + 'angle'\n",
      "                  , csvDict=csvDict, legend=legend, yscale=yscale)\n",
      "    plotEnginesDt(p, yname='linVelocityErrMaxAbs', title=title_prefix + 'velocity'\n",
      "                  , csvDict=csvDict, legend=legend, yscale=yscale)\n",
      "    plotEnginesDt(p, yname='angMomentumErrMaxAbs', title=title_prefix + 'angular momentum'\n",
      "                  , csvDict=csvDict, legend=legend, yscale=yscale)\n",
      "    plotEnginesDt(p, yname='energyErrorMaxAbs', title=title_prefix + 'energy'\n",
      "                  , csvDict=csvDict, legend=legend, yscale=yscale)\n",
      "\n",
      "def plotErrorTime(classname, title_prefix\n",
      "                  , csvDict=boxes\n",
      "                  , legend='best'\n",
      "                  , yscale='linear'):\n",
      "    p = {}\n",
      "    p['classname'] = classname\n",
      "    title_prefix = title_prefix\n",
      "    plotEnginesTime(p, yname='linPositionErrMaxAbs', title=title_prefix + 'position'\n",
      "                    , csvDict=csvDict, legend=legend, yscale=yscale)\n",
      "    plotEnginesTime(p, yname='angPositionErrMaxAbs', title=title_prefix + 'angle'\n",
      "                    , csvDict=csvDict, legend=legend, yscale=yscale)\n",
      "    plotEnginesTime(p, yname='linVelocityErrMaxAbs', title=title_prefix + 'velocity'\n",
      "                    , csvDict=csvDict, legend=legend, yscale=yscale)\n",
      "    plotEnginesTime(p, yname='angMomentumErrMaxAbs', title=title_prefix + 'angular momentum'\n",
      "                    , csvDict=csvDict, legend=legend, yscale=yscale)\n",
      "    plotEnginesTime(p, yname='energyErrorMaxAbs', title=title_prefix + 'energy'\n",
      "                    , csvDict=csvDict, legend=legend, yscale=yscale)\n"
     ],
     "language": "python",
     "metadata": {},
     "outputs": []
    },
    {
     "cell_type": "heading",
     "level": 3,
     "metadata": {},
     "source": [
      "Rigid body math"
     ]
    },
    {
     "cell_type": "heading",
     "level": 4,
     "metadata": {},
     "source": [
      "TODO: add picture for the following math"
     ]
    },
    {
     "cell_type": "markdown",
     "metadata": {},
     "source": [
      "Consider an inertial frame $O$ and a rigid body with coordinate frame $c$ attached at the center of mass:\n",
      "\n",
      "* The position of the center of gravity (cg) in $O$ is given by $\\textbf{c}$.\n",
      "* The orientation of $c$ with respect to $O$ is given by the quaternion $q$.\n",
      "\n",
      "The rigid body has the following inertial parameters:\n",
      "\n",
      "* mass $m$\n",
      "* inertia matrix $\\textbf{I}$ expressed in $c$\n",
      "\n",
      "Further definitions:\n",
      "\n",
      "* A rotation matrix from $O$ to $q$: $\\textbf{R}(\\textbf{q})$\n",
      "* Angular velocity in frame $c$: $\\boldsymbol{\\omega}$.\n",
      "\n",
      "For time $t$, denote the initial conditions:\n",
      "\n",
      "* $\\textbf{c}(t=t_0) = \\textbf{c}_0$,\n",
      "* $\\dot{\\textbf{c}}(t=t_0) = \\dot{\\textbf{c}}_0$,\n",
      "* $\\textbf{q}(t=t_0) = \\textbf{q}_0$,\n",
      "* $\\boldsymbol{\\omega}(t=t_0) = \\boldsymbol{\\omega}_0$.\n",
      "\n",
      "Let $\\textbf{p}(t)$ represent linear momentum:\n",
      "\n",
      "* $\\textbf{p}(t) = m \\dot{\\textbf{c}}(t)$,\n",
      "* initial value of $\\textbf{p}_0$.\n",
      "\n",
      "Let $\\textbf{H}(t)$ represent the angular momentum with respect to the center of gravity, expressed in $O$:\n",
      "\n",
      "* $\\textbf{H}(t) = \\textbf{R}^T(\\textbf{q}(t))\\textbf{I}\\boldsymbol{\\omega}(t)$,\n",
      "* initial value of $\\textbf{H}_0$\n",
      "\n",
      "Let $T$ represent the kinetic energy as\n",
      "$T = \\frac{1}{2} m \\dot{\\textbf{c}}^T \\dot{\\textbf{c}} +\n",
      "     \\frac{1}{2} \\textbf{I} \\boldsymbol{\\omega}^T \\boldsymbol{\\omega}$,\n",
      "and an initial value of $T_0$"
     ]
    },
    {
     "cell_type": "heading",
     "level": 3,
     "metadata": {},
     "source": [
      "Inertial parameters for box"
     ]
    },
    {
     "cell_type": "markdown",
     "metadata": {},
     "source": [
      "These tests use a box of uniform density with relative dimensions 1x4x9. The inertial properties are computed below:"
     ]
    },
    {
     "cell_type": "code",
     "collapsed": false,
     "input": [
      "# Inertial parameters for gyroscopic effects in accuracy test\n",
      "from numpy import diag\n",
      "\n",
      "# Use inertial parameters for uniform box of 10 kg with dimensions 0.1 x 0.4 x 0.9 (m^3)\n",
      "m = 10.0\n",
      "box_x = 0.1\n",
      "box_y = 0.4\n",
      "box_z = 0.9\n",
      "Ixx = m/12.0 * (box_y**2 + box_z**2)\n",
      "Iyy = m/12.0 * (box_z**2 + box_x**2)\n",
      "Izz = m/12.0 * (box_x**2 + box_y**2)\n",
      "I = diag([Ixx, Iyy, Izz])\n",
      "print I"
     ],
     "language": "python",
     "metadata": {},
     "outputs": []
    },
    {
     "cell_type": "heading",
     "level": 3,
     "metadata": {},
     "source": [
      "Analytical solution: gravity-free environment"
     ]
    },
    {
     "cell_type": "markdown",
     "metadata": {},
     "source": [
      "In a gravity-free environment with no external forces, linear momentum, angular momentum, and energy are conserved.\n",
      "\n",
      "* Linear momentum conservation:\n",
      "\n",
      "    * $\\textbf{p}(t) = \\textbf{p}_0$\n",
      "    * $\\dot{\\textbf{c}}(t) = \\dot{\\textbf{c}}_0$\n",
      "    * $\\textbf{c}(t) = \\textbf{c}_0 + \\dot{\\textbf{c}}_0(t-t_0)$\n",
      "    * Linear momentum conservation implies a straight-line trajectory of the box center of gravity, constant linear speed $\\dot{\\textbf{c}}(t)$ and position $\\textbf{c}(t)$ changing linearly with time.\n",
      "\n",
      "* Angular momentum conservation:\n",
      " \n",
      "    * $\\textbf{H}(t) = \\textbf{H}_0$,\n",
      "    * $\\textbf{R}^T(\\textbf{q(t)})\\textbf{I}\\boldsymbol{\\omega}(t) =\n",
      "      \\textbf{R}^T(\\textbf{q}_0)\\textbf{I}\\boldsymbol{\\omega}_0$\n",
      "    * Angular momentum implies that the angular momentum vector will be constant in a fixed frame. With gyroscopic effects, this can cause tumbling. To see gyroscopic effects, use inertial parameters for a 1x4x9 box.\n",
      "\n",
      "* Energy conservation:\n",
      "    * $T(t) = T_0$,\n",
      "    * Kinetic energy is contant, no potential energy\n"
     ]
    },
    {
     "cell_type": "heading",
     "level": 3,
     "metadata": {},
     "source": [
      "Test: Single rigid body, linear trajectory"
     ]
    },
    {
     "cell_type": "markdown",
     "metadata": {},
     "source": [
      "This test uses a single rigid body with inertial parameters of a 1x4x9 box. A linear trajectory is ensured by disabling gravity and using an initial value of angular velocity with only one non-zero component ($\\boldsymbol{\\omega}_0 = [\\omega_0, 0, 0]$), so that no gyroscopic tumbling occurs."
     ]
    },
    {
     "cell_type": "code",
     "collapsed": false,
     "input": [
      "plotErrorDt('DtLinear', 'Linear trajectory: ', legend='center left', yscale='log')"
     ],
     "language": "python",
     "metadata": {},
     "outputs": []
    },
    {
     "cell_type": "code",
     "collapsed": false,
     "input": [
      "# Plot with respect to time ratio (real / sim)\n",
      "plotErrorTime('DtLinear', 'Linear trajectory: ', legend='center right', yscale='log')"
     ],
     "language": "python",
     "metadata": {},
     "outputs": []
    },
    {
     "cell_type": "heading",
     "level": 3,
     "metadata": {},
     "source": [
      "Analytical solution: with gravity"
     ]
    },
    {
     "cell_type": "markdown",
     "metadata": {},
     "source": [
      "With gravity vector $\\textbf{g}$ acting:\n",
      "\n",
      "* Newton 2nd law implies:\n",
      "    * $\\dot{\\textbf{p}}(t) = m \\textbf{g}$,\n",
      "    * $\\ddot{\\textbf{c}}(t) = \\textbf{g}$,\n",
      "    * $\\dot{\\textbf{c}}(t) = \\dot{\\textbf{c}}_0 + \\textbf{g} (t-t_0)$,\n",
      "    * $\\textbf{c}(t) = \\textbf{c}_0 + \\dot{\\textbf{c}}_0(t-t_0) + \\frac{1}{2} \\textbf{g} (t-t_0)^2$\n",
      "    * The cg acceleration is constant, the velocity is linear in time, and the position is parabolic in time.\n",
      "\n",
      "* Angular momentum: see previous section \"Without gravity\".\n",
      "\n",
      "* Energy conservation:\n",
      "    * see definition of kinetic energy $T$ from previous section\n",
      "    * define potential energy $V(\\textbf{c}) = m \\textbf{g}^T \\textbf{c}$, with $V=0$ when the cg has a height of 0.\n",
      "    * initial value of $V$: $V_0 = m \\textbf{g}^T \\textbf{c}_0$\n",
      "    * total energy $E(t) = T + V$:\n",
      "    * initial value of $E$: $E_0 = T_0 + V_0$"
     ]
    },
    {
     "cell_type": "heading",
     "level": 3,
     "metadata": {},
     "source": [
      "Test: Single rigid body, nonlinear trajectory"
     ]
    },
    {
     "cell_type": "markdown",
     "metadata": {},
     "source": [
      "This test uses a single rigid body with inertial parameters of a 1x4x9 box. A nonlinear trajectory is ensured by enabling gravity and using an initial value of angular velocity with non-zero components ($\\boldsymbol{\\omega}_0 = [\\omega_{x0}, \\omega_{y0}, \\omega_{z0}]$). Since $I_{xx} > I_{yy} > I_{zz}$, the value of $\\omega_{y0}$ is given the largest magnitude, to\n",
      "[ensure that gyroscopic tumbling occurs](http://farside.ph.utexas.edu/teaching/336k/Newtonhtml/node71.html)."
     ]
    },
    {
     "cell_type": "code",
     "collapsed": false,
     "input": [
      "# Plot with respect to time step\n",
      "plotErrorDt('DtNonlinear', 'Nonlinear trajectory: ', yscale='log')"
     ],
     "language": "python",
     "metadata": {},
     "outputs": []
    },
    {
     "cell_type": "code",
     "collapsed": false,
     "input": [
      "# Plot with respect to time ratio (real / sim)\n",
      "plotErrorTime('DtNonlinear', 'Nonlinear trajectory: ', yscale='log')"
     ],
     "language": "python",
     "metadata": {},
     "outputs": []
    },
    {
     "cell_type": "heading",
     "level": 3,
     "metadata": {},
     "source": [
      "Test: multiple boxes, nonlinear trajectory"
     ]
    },
    {
     "cell_type": "markdown",
     "metadata": {},
     "source": [
      "This test uses multiple rigid bodies spaced widely apart to identify the effect of on computational speed for each physics engine. Identical initial conditions are given to each box."
     ]
    },
    {
     "cell_type": "code",
     "collapsed": false,
     "input": [
      "p = {}\n",
      "p['classname'] = 'Boxes'\n",
      "plotEnginesModelCount(p, 'timeRatio'\n",
      "                  , ylabel='Time ratio (real / sim)'\n",
      "                  , title='Multiple boxes: time ratio'\n",
      "                   )"
     ],
     "language": "python",
     "metadata": {},
     "outputs": []
    },
    {
     "cell_type": "heading",
     "level": 2,
     "metadata": {},
     "source": [
      "One degree-of-freedom joints"
     ]
    },
    {
     "cell_type": "code",
     "collapsed": false,
     "input": [
      "one_dof = makeCsvDictOfArrays('one_dof.csv')\n",
      "pp.pprint(set(one_dof['classname']))\n",
      "pp.pprint(set(one_dof.keys()))"
     ],
     "language": "python",
     "metadata": {},
     "outputs": []
    },
    {
     "cell_type": "code",
     "collapsed": false,
     "input": [
      "plotErrorDt('DtItersTorque', 'Linear trajectory: ', legend='center left', yscale='log', csvDict=one_dof)"
     ],
     "language": "python",
     "metadata": {},
     "outputs": []
    },
    {
     "cell_type": "code",
     "collapsed": false,
     "input": [
      "p = {}\n",
      "p['classname'] = 'Sliders'\n",
      "plotEnginesModelCount(p, 'timeRatio'\n",
      "                  , ylabel='Time ratio (real / sim)'\n",
      "                  , title='Multiple boxes: time ratio'\n",
      "                  , csvDict=one_dof\n",
      "                   )"
     ],
     "language": "python",
     "metadata": {},
     "outputs": []
    },
    {
     "cell_type": "code",
     "collapsed": false,
     "input": [],
     "language": "python",
     "metadata": {},
     "outputs": []
    }
   ],
   "metadata": {}
  }
 ]
}