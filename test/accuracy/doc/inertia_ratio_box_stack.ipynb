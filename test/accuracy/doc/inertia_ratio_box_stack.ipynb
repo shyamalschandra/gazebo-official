{
 "metadata": {
  "name": "",
  "signature": "sha256:f35ed9bc92e99c3a62b9a9e4f675677a42a53d33802a96f772f8f0184f6abe6c"
 },
 "nbformat": 3,
 "nbformat_minor": 0,
 "worksheets": [
  {
   "cells": [
    {
     "cell_type": "heading",
     "level": 1,
     "metadata": {},
     "source": [
      "Physics Accuracy Testing for the Gazebo Simulator"
     ]
    },
    {
     "cell_type": "markdown",
     "metadata": {},
     "source": [
      "Documentation for accuracy testing in the [gazebo simulator](http://gazebosim.org). This document is [hosted on bitbucket](https://bitbucket.org/osrf/gazebo/src/signal_stats_inertia/test/accuracy/doc/boxes.ipynb) and can be [viewed here](http://nbviewer.ipython.org/urls/bitbucket.org/osrf/gazebo/raw/signal_stats_inertia/test/accuracy/doc/boxes.ipynb).\n",
      "\n",
      "Each set of tests is run for the physics engines supported by gazebo:\n",
      "\n",
      "* [Open Dynamics Engine (ODE)](http://ode.org), (source code on [bitbucket](https://bitbucket.org/odedevs/ode))\n",
      "* [Bullet](http://bulletphysics.org), (source code on [github](https://github.com/bulletphysics/bullet3))\n",
      "* [Simbody](https://simtk.org/home/simbody), (source code on [github](https://github.com/simbody/simbody))\n",
      "* [Dynamic Animation and Robotics Toolkit (DART)](http://dartsim.github.io), (source code on [github](https://github.com/dartsim/dart))"
     ]
    },
    {
     "cell_type": "heading",
     "level": 2,
     "metadata": {},
     "source": [
      "How to run the tests:"
     ]
    },
    {
     "cell_type": "markdown",
     "metadata": {},
     "source": [
      "The accuracy tests are currently in the\n",
      "[signal_stats_inertia branch](https://bitbucket.org/osrf/gazebo/branches/compare/signal_stats_inertia..gazebo_4.0)\n",
      "(which is also using code from\n",
      "[signal_stats_4.0](https://bitbucket.org/osrf/gazebo/branches/compare/signal_stats_4.0..gazebo_4.0)\n",
      "and\n",
      "[sdformat_protobuf](https://bitbucket.org/osrf/gazebo/branches/compare/sdformat_protobuf..gazebo_4.0)\n",
      "branches).\n",
      "\n",
      "To run the tests, make sure you have\n",
      "[installed the optional physics engines](http://gazebosim.org/tutorials/?tut=install#OptionalPhysicsEngines),\n",
      "and then clone and build gazebo:\n",
      "\n",
      "~~~\n",
      "hg clone https://bitbucket.org/osrf/gazebo\n",
      "hg up signal_stats_inertia\n",
      "mkdir build\n",
      "cd build\n",
      "cmake ..\n",
      "make\n",
      "# it doesn't need to be installed to run the tests\n",
      "~~~\n",
      "The accuracy tests are in the\n",
      "[test/accuracy](https://bitbucket.org/osrf/gazebo/src/signal_stats_inertia/test/accuracy) folder.\n",
      "To run all the accuracy tests, use the following command from the build folder:\n",
      "~~~\n",
      "make test ARGS=\"-VV -R ACCURACY_*\"\n",
      "~~~\n",
      "or\n",
      "~~~\n",
      "./test/accuracy/ACCURACY_inertia_ratio_sphere_stack --gtest_output=xml:inertia_ratio_sphere_stack_masses.xml\n",
      "~~~\n",
      "\n",
      "This command will run the gtest executables with special command-line flags that generate xml output in the `build/test_results` folder.\n",
      "The generated xml files can be converted to comma-separated value files (csv) with the [tools/junit_to_csv.rb script](https://bitbucket.org/osrf/gazebo/src/signal_stats_inertia/tools/junit_to_csv.rb).\n",
      "For example, the xml from the sphere stack test can be converted to csv with the following command:\n",
      "~~~\n",
      "# starting from the build folder\n",
      "# put the csv file in test/accuracy/doc so the ipython notebook can load it\n",
      "../tools/junit_to_csv.rb test_results/ACCURACY_inertia_ratio_sphere_stack.xml > ../test/accuracy/doc/inertia_ratio_sphere_stack.csv\n",
      "~~~\n",
      "\n",
      "To load and visualize the test results, you should make sure ipython notebook, matplotlib, and numpy are installed on your machine:\n",
      "~~~\n",
      "# Ubuntu\n",
      "sudo apt-get install ipython-notebook python-matplotlib python-numpy\n",
      "\n",
      "# Mac\n",
      "brew install matplotlib\n",
      "# do the following in specific terminals when using ipython notebook\n",
      "export PYTHONPATH=/usr/local/lib/python2.7/site-packages\n",
      "~~~\n",
      "With the proper dependencies installed run ipython notebook from the test/accuracy/doc folder:\n",
      "~~~\n",
      "cd test/accuracy/doc\n",
      "ipython notebook\n",
      "~~~\n",
      "The code in the following cells defines helper functions to load and plot the data."
     ]
    },
    {
     "cell_type": "code",
     "collapsed": false,
     "input": [
      "# function for exact matching or partial string matching\n",
      "# used for selecting specific test cases based on test parameters\n",
      "def match(a,b):\n",
      "    if a == b:\n",
      "        return True\n",
      "    else:\n",
      "        try:\n",
      "            if a in b:\n",
      "                return True\n",
      "        except:\n",
      "            return False\n",
      "    return False"
     ],
     "language": "python",
     "metadata": {},
     "outputs": []
    },
    {
     "cell_type": "code",
     "collapsed": false,
     "input": [
      "# open data file as csv and construct dictionary of arrays\n",
      "import csv\n",
      "import numpy as np\n",
      "def makeCsvDictOfArrays(filename):\n",
      "    with open(filename, 'rb') as csvfile:\n",
      "        spamreader = csv.DictReader(csvfile)\n",
      "        csvDict = {}\n",
      "        for field in spamreader.fieldnames:\n",
      "            csvDict[field] = []\n",
      "        csvDict[None] = []\n",
      "        for row in spamreader:\n",
      "            for k in row.keys():\n",
      "                try:\n",
      "                    csvDict[k] = np.append(csvDict[k], float(row[k]))\n",
      "                except:\n",
      "                    csvDict[k].append(row[k])\n",
      "        return csvDict"
     ],
     "language": "python",
     "metadata": {},
     "outputs": []
    },
    {
     "cell_type": "code",
     "collapsed": false,
     "input": [
      "# query a dictionary of arrays for indices of matching parameters\n",
      "def query(d, params):\n",
      "    result = []\n",
      "    for k in params:\n",
      "        result.append(set([i for i,x in enumerate(d[k]) if match(params[k], x)]))\n",
      "    return sorted(set.intersection(*result))"
     ],
     "language": "python",
     "metadata": {},
     "outputs": []
    },
    {
     "cell_type": "heading",
     "level": 2,
     "metadata": {},
     "source": [
      "Box stack: static contact test"
     ]
    },
    {
     "cell_type": "markdown",
     "metadata": {},
     "source": [
      "This test applies linear and angular impulses to unconstrained rigid bodies and verifies that their response matches the predicted analytical solutions."
     ]
    },
    {
     "cell_type": "code",
     "collapsed": false,
     "input": [
      "import pprint\n",
      "pp = pprint.PrettyPrinter(indent=4)\n",
      "boxes = makeCsvDictOfArrays('box_stack.csv')\n",
      "pp.pprint(set(boxes['classname']))\n",
      "pp.pprint(set(boxes.keys()))\n",
      "print boxes['mass']\n",
      "print boxes['iters']\n",
      "print boxes['linPositionErrMaxAbs']\n",
      "print boxes['linVelocityErrVariance']\n",
      "print boxes['constraintResidualTotalMean']"
     ],
     "language": "python",
     "metadata": {},
     "outputs": []
    },
    {
     "cell_type": "code",
     "collapsed": false,
     "input": [
      "# helper functions for plotting\n",
      "import matplotlib as mpl\n",
      "import matplotlib.pyplot as plt\n",
      "%matplotlib inline\n",
      "mpl.rcParams.update({'font.size': 16})"
     ],
     "language": "python",
     "metadata": {},
     "outputs": []
    },
    {
     "cell_type": "code",
     "collapsed": false,
     "input": [
      "def plotEngines(params, yname\n",
      "                        , xname='my x variable'\n",
      "                        , xlabel='my x label'\n",
      "                        , ylabel='my y label'\n",
      "                        , title='title'\n",
      "                        ):\n",
      "    engines = {}\n",
      "    engines['ode'] = 'bo-'\n",
      "    engines['bullet'] = 'rx--'\n",
      "    # engines['simbody'] = 'gv-'\n",
      "    engines['dart'] = 'k^--'\n",
      "    fig = plt.figure()\n",
      "    for e in sorted(engines.keys()):\n",
      "        params['engine'] = e\n",
      "        ii = np.array(list(query(boxes, params)))\n",
      "        plt.plot(boxes[xname][ii]\n",
      "               , boxes[yname][ii]\n",
      "               , engines[e], mfc=\"None\"\n",
      "               , markersize=10.0\n",
      "               , markeredgewidth=2.0\n",
      "               , markeredgecolor=engines[e][0]\n",
      "               )\n",
      "    plt.grid()\n",
      "    plt.xlabel(xlabel, fontsize=18)\n",
      "    plt.ylabel(ylabel, fontsize=18)\n",
      "    plt.title(title)\n",
      "    plt.gcf().set_size_inches(10, 6)\n",
      "    plt.gca().set_xscale('log')\n",
      "    plt.gca().set_yscale('log')\n",
      "    plt.legend(sorted(engines.keys()), loc='best')\n",
      "\n",
      "def plotEnginesMulti(params, yname\n",
      "                    , xname='my x variable'\n",
      "                    , xlabel='my x label'\n",
      "                    , ylabel='my y label'\n",
      "                    , title='title'\n",
      "                    , csvDict=boxes\n",
      "                    ):\n",
      "    engines = {}\n",
      "    engines['ode'] = 'bo-'\n",
      "    engines['bullet'] = 'rx--'\n",
      "    # engines['simbody'] = 'gv-'\n",
      "    # engines['dart'] = 'k^--'\n",
      "    fig = plt.figure()\n",
      "    xdata = {}\n",
      "    ydata = {}\n",
      "    for e in sorted(engines.keys()):\n",
      "        params['engine'] = e\n",
      "        for i in sorted(set(csvDict['iters'])):\n",
      "            params['iters'] = i\n",
      "            ii = np.array(list(query(csvDict, params)))\n",
      "            xdata[e] = csvDict[xname][ii]\n",
      "            ydata[e] = csvDict[yname][ii]\n",
      "            color = 'r'\n",
      "            plt.plot(xdata[e]\n",
      "                   , ydata[e]+np.finfo(float).eps\n",
      "                   , engines[e]\n",
      "                   , mfc=color\n",
      "                   , marker='$' + str(int(i)) + '$'\n",
      "                   , markersize=20.0\n",
      "                   , markeredgecolor=color\n",
      "                   , linewidth=2.0\n",
      "                   )\n",
      "    plt.grid()\n",
      "    plt.xlabel(xlabel, fontsize=18)\n",
      "    plt.ylabel(ylabel, fontsize=18)\n",
      "    plt.title(title)\n",
      "    plt.gcf().set_size_inches(10, 6)\n",
      "    plt.gca().set_xscale('log')\n",
      "    plt.gca().set_yscale('log')\n",
      "    plt.legend(sorted(engines.keys()), loc='best')"
     ],
     "language": "python",
     "metadata": {},
     "outputs": []
    },
    {
     "cell_type": "code",
     "collapsed": false,
     "input": [
      "def plotEnginesMasses(params, yname\n",
      "                  , xname='mass'\n",
      "                  , xlabel='Top Link Mass (kg)'\n",
      "                  , ylabel='my y label'\n",
      "                  , title='title'\n",
      "                   ):\n",
      "    plotEngines(params, yname\n",
      "                  , xname=xname\n",
      "                  , xlabel=xlabel\n",
      "                  , ylabel=ylabel\n",
      "                  , title=title\n",
      "                  )\n",
      "def plotEnginesMassesMulti(params, yname\n",
      "                  , xname='mass'\n",
      "                  , xlabel='Top Link Mass (kg)'\n",
      "                  , ylabel='my y label'\n",
      "                  , title='title'\n",
      "                   ):\n",
      "    plotEnginesMulti(params, yname\n",
      "                  , xname=xname\n",
      "                  , xlabel=xlabel\n",
      "                  , ylabel=ylabel\n",
      "                  , title=title\n",
      "                  )"
     ],
     "language": "python",
     "metadata": {},
     "outputs": []
    },
    {
     "cell_type": "code",
     "collapsed": false,
     "input": [
      "def plotEnginesMassesErrors(classname, title_prefix):\n",
      "    p = {}\n",
      "    p['classname'] = classname\n",
      "    title_prefix = title_prefix\n",
      "    plotEnginesMasses(p, yname='linPositionErrMaxAbs', ylabel=\"Pos MaxAbs Err\", title=title_prefix + 'position (maxabs)')\n",
      "    plotEnginesMasses(p, yname='linPositionErrMean', ylabel=\"Pos MaxAbs Err\", title=title_prefix + 'position (mean)')\n",
      "    plotEnginesMasses(p, yname='linVelocityErrMaxAbs', ylabel=\"Vel MaxAbs Err\", title=title_prefix + 'velocity (maxabs)')\n",
      "    plotEnginesMasses(p, yname='energyErrorVariance', ylabel=\"energy Variance\", title=title_prefix + 'energy (variance)')\n",
      "\n",
      "def plotEnginesMassesErrorsMulti(classname, title_prefix):\n",
      "    p = {}\n",
      "    p['classname'] = classname\n",
      "    title_prefix = title_prefix\n",
      "    plotEnginesMassesMulti(p, yname='linPositionErrMaxAbs', ylabel=\"Pos MaxAbs Err\", title=title_prefix + 'position (maxabs)')\n",
      "    plotEnginesMassesMulti(p, yname='linPositionErrMean', ylabel=\"Pos MaxAbs Err\", title=title_prefix + 'position (mean)')\n",
      "    plotEnginesMassesMulti(p, yname='linVelocityErrMaxAbs', ylabel=\"Vel MaxAbs Err\", title=title_prefix + 'velocity (maxabs)')\n",
      "    plotEnginesMassesMulti(p, yname='energyErrorVariance', ylabel=\"energy Variance\", title=title_prefix + 'energy (variance)')\n",
      "    # plotEnginesMasses(p, yname='rmsErrorTotalMean', ylabel=\"rms Err Mean\", title=title_prefix + 'rms error (mean)')\n",
      "    # plotEnginesMasses(p, yname='constraintResidualTotalMean', ylabel=\"residual Mean\", title=title_prefix + 'residual (mean)')\n",
      "    # plotEnginesMasses(p, yname='linVelocityErrVariance', ylabel=\"residual Mean\", title=title_prefix + 'velocity (variance)')\n",
      "\n"
     ],
     "language": "python",
     "metadata": {},
     "outputs": []
    },
    {
     "cell_type": "heading",
     "level": 3,
     "metadata": {},
     "source": [
      "Test: Stack of boxes"
     ]
    },
    {
     "cell_type": "markdown",
     "metadata": {},
     "source": [
      "This test uses stack of spherical rigid bodies..."
     ]
    },
    {
     "cell_type": "code",
     "collapsed": false,
     "input": [
      "plotEnginesMassesErrors('InertiaRatioBoxStackMass', 'Box Stack: ')"
     ],
     "language": "python",
     "metadata": {},
     "outputs": []
    },
    {
     "cell_type": "code",
     "collapsed": false,
     "input": [
      "plotEnginesMassesErrorsMulti('InertiaRatioBoxStackIterationsMass', 'Box Stack: ')"
     ],
     "language": "python",
     "metadata": {},
     "outputs": []
    }
   ],
   "metadata": {}
  }
 ]
}